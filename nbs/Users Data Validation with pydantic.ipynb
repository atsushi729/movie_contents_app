{
 "cells": [
  {
   "cell_type": "code",
   "execution_count": 2,
   "id": "01f4668c",
   "metadata": {
    "scrolled": true
   },
   "outputs": [
    {
     "name": "stdout",
     "output_type": "stream",
     "text": [
      "/Users/hatakeyamaatsushi/PycharmProjects/movie_contents_app\n"
     ]
    }
   ],
   "source": [
    "%cd /Users/hatakeyamaatsushi/PycharmProjects/movie_contents_app"
   ]
  },
  {
   "cell_type": "code",
   "execution_count": 3,
   "id": "6f31b055",
   "metadata": {
    "scrolled": false
   },
   "outputs": [],
   "source": [
    "from app import db\n",
    "from app.users.models import User\n",
    "from cassandra.cqlengine.management import sync_table"
   ]
  },
  {
   "cell_type": "code",
   "execution_count": 4,
   "id": "b4e127c9",
   "metadata": {},
   "outputs": [],
   "source": [
    "db.get_session()\n",
    "sync_table(User)"
   ]
  },
  {
   "cell_type": "code",
   "execution_count": 18,
   "id": "138051d1",
   "metadata": {},
   "outputs": [],
   "source": [
    "post_data = {\n",
    "    \"email\": \"abc@abc.com\",\n",
    "    \"password\": \"abc123\"\n",
    "}"
   ]
  },
  {
   "cell_type": "code",
   "execution_count": 33,
   "id": "cb86bbb3",
   "metadata": {},
   "outputs": [],
   "source": [
    "from pydantic import BaseModel, EmailStr, SecretStr, validator"
   ]
  },
  {
   "cell_type": "code",
   "execution_count": 20,
   "id": "fa03f690",
   "metadata": {},
   "outputs": [],
   "source": [
    "class UserLoginSchema(BaseModel):\n",
    "    email: EmailStr\n",
    "    password: SecretStr"
   ]
  },
  {
   "cell_type": "code",
   "execution_count": 21,
   "id": "3f78868d",
   "metadata": {},
   "outputs": [
    {
     "data": {
      "text/plain": [
       "UserLoginSchema(email='abc@abc.com', password=SecretStr('**********'))"
      ]
     },
     "execution_count": 21,
     "metadata": {},
     "output_type": "execute_result"
    }
   ],
   "source": [
    "UserLoginSchema(**post_data)"
   ]
  },
  {
   "cell_type": "code",
   "execution_count": 50,
   "id": "502d316c",
   "metadata": {},
   "outputs": [],
   "source": [
    "class UserSignupSchema(BaseModel):\n",
    "    email: EmailStr\n",
    "    password: SecretStr\n",
    "    password_confirm: SecretStr\n",
    "        \n",
    "    @validator(\"email\")\n",
    "    def email_available(cls, v, values, **kwargs):\n",
    "        q = User.objects.filter(email=v)\n",
    "        if q.count() != 0:\n",
    "            raise ValueError(\"Email is not available\")\n",
    "        return v\n",
    "\n",
    "\n",
    "    @validator(\"password_confirm\")\n",
    "    def passwords_match(cls, v, values, **kwargs):\n",
    "        password = values.get('password')\n",
    "        password_confirm = v\n",
    "        if password != password_confirm:\n",
    "            raise ValueError(\"Passwords do not match\")\n",
    "        return v"
   ]
  },
  {
   "cell_type": "code",
   "execution_count": 53,
   "id": "d90db2d7",
   "metadata": {
    "scrolled": true
   },
   "outputs": [
    {
     "ename": "ValidationError",
     "evalue": "1 validation error for UserSignupSchema\nemail\n  Email is not available (type=value_error)",
     "output_type": "error",
     "traceback": [
      "\u001b[0;31m---------------------------------------------------------------------------\u001b[0m",
      "\u001b[0;31mValidationError\u001b[0m                           Traceback (most recent call last)",
      "\u001b[0;32m/var/folders/jj/ft13j7ts0hz95846_dywwsr40000gn/T/ipykernel_27875/3535290092.py\u001b[0m in \u001b[0;36m<module>\u001b[0;34m\u001b[0m\n\u001b[0;32m----> 1\u001b[0;31m \u001b[0mdata\u001b[0m \u001b[0;34m=\u001b[0m \u001b[0mUserSignupSchema\u001b[0m\u001b[0;34m(\u001b[0m\u001b[0memail\u001b[0m\u001b[0;34m=\u001b[0m\u001b[0;34m'abc@teamcfe.com'\u001b[0m\u001b[0;34m,\u001b[0m \u001b[0mpassword\u001b[0m\u001b[0;34m=\u001b[0m\u001b[0;34m'abc123'\u001b[0m\u001b[0;34m,\u001b[0m \u001b[0mpassword_confirm\u001b[0m\u001b[0;34m=\u001b[0m\u001b[0;34m'abc123'\u001b[0m\u001b[0;34m)\u001b[0m\u001b[0;34m\u001b[0m\u001b[0;34m\u001b[0m\u001b[0m\n\u001b[0m",
      "\u001b[0;32m/usr/local/lib/python3.9/site-packages/pydantic/main.cpython-39-darwin.so\u001b[0m in \u001b[0;36mpydantic.main.BaseModel.__init__\u001b[0;34m()\u001b[0m\n",
      "\u001b[0;31mValidationError\u001b[0m: 1 validation error for UserSignupSchema\nemail\n  Email is not available (type=value_error)"
     ]
    }
   ],
   "source": [
    "data = UserSignupSchema(email='abc@teamcfe.com', password='abc123', password_confirm='abc123')"
   ]
  },
  {
   "cell_type": "code",
   "execution_count": 52,
   "id": "5580e677",
   "metadata": {
    "scrolled": true
   },
   "outputs": [
    {
     "data": {
      "text/plain": [
       "'abc123'"
      ]
     },
     "execution_count": 52,
     "metadata": {},
     "output_type": "execute_result"
    }
   ],
   "source": [
    "data.dict()['password'].get_secret_value()"
   ]
  },
  {
   "cell_type": "code",
   "execution_count": 54,
   "id": "0bed57b8",
   "metadata": {},
   "outputs": [
    {
     "data": {
      "text/plain": [
       "['__class__',\n",
       " '__delattr__',\n",
       " '__dict__',\n",
       " '__dir__',\n",
       " '__doc__',\n",
       " '__eq__',\n",
       " '__format__',\n",
       " '__ge__',\n",
       " '__get_validators__',\n",
       " '__getattribute__',\n",
       " '__gt__',\n",
       " '__hash__',\n",
       " '__init__',\n",
       " '__init_subclass__',\n",
       " '__le__',\n",
       " '__len__',\n",
       " '__lt__',\n",
       " '__modify_schema__',\n",
       " '__module__',\n",
       " '__ne__',\n",
       " '__new__',\n",
       " '__reduce__',\n",
       " '__reduce_ex__',\n",
       " '__repr__',\n",
       " '__setattr__',\n",
       " '__sizeof__',\n",
       " '__str__',\n",
       " '__subclasshook__',\n",
       " '__weakref__',\n",
       " '_secret_value',\n",
       " 'display',\n",
       " 'get_secret_value',\n",
       " 'max_length',\n",
       " 'min_length',\n",
       " 'validate']"
      ]
     },
     "execution_count": 54,
     "metadata": {},
     "output_type": "execute_result"
    }
   ],
   "source": [
    "dir(data.dict()['password'])"
   ]
  },
  {
   "cell_type": "code",
   "execution_count": 56,
   "id": "b9ff212b",
   "metadata": {},
   "outputs": [
    {
     "data": {
      "text/plain": [
       "<bound method SecretStr.display of SecretStr('**********')>"
      ]
     },
     "execution_count": 56,
     "metadata": {},
     "output_type": "execute_result"
    }
   ],
   "source": [
    "data.dict()['password'].display"
   ]
  }
 ],
 "metadata": {
  "kernelspec": {
   "display_name": "Python 3 (ipykernel)",
   "language": "python",
   "name": "python3"
  },
  "language_info": {
   "codemirror_mode": {
    "name": "ipython",
    "version": 3
   },
   "file_extension": ".py",
   "mimetype": "text/x-python",
   "name": "python",
   "nbconvert_exporter": "python",
   "pygments_lexer": "ipython3",
   "version": "3.9.9"
  }
 },
 "nbformat": 4,
 "nbformat_minor": 5
}
