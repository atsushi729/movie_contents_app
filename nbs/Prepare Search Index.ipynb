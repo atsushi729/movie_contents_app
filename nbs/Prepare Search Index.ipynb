{
 "cells": [
  {
   "cell_type": "code",
   "execution_count": 1,
   "id": "01f4668c",
   "metadata": {
    "scrolled": true
   },
   "outputs": [
    {
     "name": "stdout",
     "output_type": "stream",
     "text": [
      "/Users/hatakeyamaatsushi/PycharmProjects/movie_contents_app\n"
     ]
    }
   ],
   "source": [
    "%cd /Users/hatakeyamaatsushi/PycharmProjects/movie_contents_app"
   ]
  },
  {
   "cell_type": "code",
   "execution_count": 2,
   "id": "6f31b055",
   "metadata": {
    "scrolled": false
   },
   "outputs": [],
   "source": [
    "from app import db\n",
    "from app.playlists.models import Playlist\n",
    "from app.users.models import User\n",
    "from app.videos.models import Video\n",
    "from cassandra.cqlengine.management import sync_table"
   ]
  },
  {
   "cell_type": "code",
   "execution_count": 3,
   "id": "f7fb4de8",
   "metadata": {},
   "outputs": [],
   "source": [
    "from app.indexing.client import get_index, update_index\n",
    "from app.indexing.schemas import *"
   ]
  },
  {
   "cell_type": "code",
   "execution_count": 4,
   "id": "b4e127c9",
   "metadata": {},
   "outputs": [],
   "source": [
    "db.get_session()\n",
    "sync_table(User)\n",
    "sync_table(Video)\n",
    "sync_table(Playlist)"
   ]
  },
  {
   "cell_type": "code",
   "execution_count": 5,
   "id": "a05cd66f",
   "metadata": {
    "scrolled": true
   },
   "outputs": [],
   "source": [
    "import uuid\n",
    "import json\n",
    "from pydantic import BaseModel, Field , validator, root_validator\n",
    "from typing import Optional"
   ]
  },
  {
   "cell_type": "code",
   "execution_count": 6,
   "id": "1836945c",
   "metadata": {
    "scrolled": false
   },
   "outputs": [
    {
     "data": {
      "text/plain": [
       "{'host_id': '3kYkEVIZNZY',\n",
       " 'db_id': UUID('0f4e5560-9190-11ec-b764-acde48001122'),\n",
       " 'host_service': 'youtube',\n",
       " 'title': 'next is',\n",
       " 'url': 'https://www.youtube.com/watch?v=3kYkEVIZNZY',\n",
       " 'user_id': UUID('f2ae4380-7e88-11ec-8138-acde48001122')}"
      ]
     },
     "execution_count": 6,
     "metadata": {},
     "output_type": "execute_result"
    }
   ],
   "source": [
    "video_obj = dict(Video.objects.first())\n",
    "video_obj"
   ]
  },
  {
   "cell_type": "code",
   "execution_count": 7,
   "id": "50b066d1",
   "metadata": {},
   "outputs": [],
   "source": [
    "class VideoIndexSchema2(BaseModel):\n",
    "    objectID: str = Field(alias='host_id')\n",
    "    objectType: str = \"Video\"\n",
    "    title:Optional[str] \n",
    "    path: str = Field(alias='host_id')\n",
    "        \n",
    "    @validator(\"path\")\n",
    "    def set_path(cls, v, values, **kwargs):\n",
    "        host_id = v\n",
    "        return f\"/videos/{host_id}\""
   ]
  },
  {
   "cell_type": "code",
   "execution_count": 8,
   "id": "438ca27e",
   "metadata": {
    "scrolled": false
   },
   "outputs": [
    {
     "data": {
      "text/plain": [
       "{'objectID': '3kYkEVIZNZY',\n",
       " 'objectType': 'Video',\n",
       " 'title': 'next is',\n",
       " 'path': '/videos/3kYkEVIZNZY'}"
      ]
     },
     "execution_count": 8,
     "metadata": {},
     "output_type": "execute_result"
    }
   ],
   "source": [
    "VideoIndexSchema(**video_obj).dict()"
   ]
  },
  {
   "cell_type": "code",
   "execution_count": 9,
   "id": "a7d387bd",
   "metadata": {},
   "outputs": [
    {
     "data": {
      "text/plain": [
       "{'db_id': UUID('e0bb0fa8-97d5-11ec-a98f-acde48001122'),\n",
       " 'user_id': UUID('f2ae4380-7e88-11ec-8138-acde48001122'),\n",
       " 'updated': datetime.datetime(2022, 2, 27, 14, 3, 21, 850000),\n",
       " 'host_ids': ['SLB_c_ayRMo'],\n",
       " 'title': 'python'}"
      ]
     },
     "execution_count": 9,
     "metadata": {},
     "output_type": "execute_result"
    }
   ],
   "source": [
    "playlist_obj = dict(Playlist.objects.first())\n",
    "playlist_obj"
   ]
  },
  {
   "cell_type": "code",
   "execution_count": 10,
   "id": "ddb9aa35",
   "metadata": {},
   "outputs": [],
   "source": [
    "class PlaylistIndexSchema2(BaseModel):\n",
    "    objectID: uuid.UUID = Field(alias='db_id')\n",
    "    objectType: str = \"Playlist\"\n",
    "    title:Optional[str] \n",
    "    path: str = Field(default='/')\n",
    "        \n",
    "#     @validator(\"path\")\n",
    "#     def set_path(cls, v, values, **kwargs):\n",
    "#         db_id = v\n",
    "#         return f\"/playlists/{db_id}\"\n",
    "    \n",
    "    @root_validator\n",
    "    def set_default(cls, values):\n",
    "        objectID = values.get('objectID')\n",
    "        values['objectID'] = str(objectID)\n",
    "        values['path'] = f\"/playlist/{objectID}\"\n",
    "        return values"
   ]
  },
  {
   "cell_type": "code",
   "execution_count": 11,
   "id": "c57f6f1b",
   "metadata": {
    "scrolled": true
   },
   "outputs": [
    {
     "data": {
      "text/plain": [
       "{'objectID': 'e0bb0fa8-97d5-11ec-a98f-acde48001122',\n",
       " 'objectType': 'Playlist',\n",
       " 'title': 'python',\n",
       " 'path': '/playlist/e0bb0fa8-97d5-11ec-a98f-acde48001122'}"
      ]
     },
     "execution_count": 11,
     "metadata": {},
     "output_type": "execute_result"
    }
   ],
   "source": [
    "json.loads(PlaylistIndexSchema(**playlist_obj).json())"
   ]
  },
  {
   "cell_type": "code",
   "execution_count": 12,
   "id": "3a0631a9",
   "metadata": {
    "scrolled": true
   },
   "outputs": [
    {
     "data": {
      "text/plain": [
       "{'objectID': 'e0bb0fa8-97d5-11ec-a98f-acde48001122',\n",
       " 'objectType': 'Playlist',\n",
       " 'title': 'python',\n",
       " 'path': '/playlist/e0bb0fa8-97d5-11ec-a98f-acde48001122'}"
      ]
     },
     "execution_count": 12,
     "metadata": {},
     "output_type": "execute_result"
    }
   ],
   "source": [
    "PlaylistIndexSchema(**playlist_obj).dict()"
   ]
  },
  {
   "cell_type": "code",
   "execution_count": 13,
   "id": "e61bab39",
   "metadata": {},
   "outputs": [
    {
     "data": {
      "text/plain": [
       "[{'objectID': '3kYkEVIZNZY',\n",
       "  'objectType': 'Video',\n",
       "  'title': 'next is',\n",
       "  'path': '/videos/3kYkEVIZNZY'},\n",
       " {'objectID': 'azcrPFhaY9k',\n",
       "  'objectType': 'Video',\n",
       "  'title': 'thinker revised',\n",
       "  'path': '/videos/azcrPFhaY9k'},\n",
       " {'objectID': 'fAAZixBzIAI',\n",
       "  'objectType': 'Video',\n",
       "  'title': 'algorithm renamed change',\n",
       "  'path': '/videos/fAAZixBzIAI'},\n",
       " {'objectID': 'e26zZ83Oh6Y',\n",
       "  'objectType': 'Video',\n",
       "  'title': 'guitar play',\n",
       "  'path': '/videos/e26zZ83Oh6Y'},\n",
       " {'objectID': 'nTeuhbP7wdE',\n",
       "  'objectType': 'Video',\n",
       "  'title': 'react study tool',\n",
       "  'path': '/videos/nTeuhbP7wdE'},\n",
       " {'objectID': 'TxM8p5F6DXE',\n",
       "  'objectType': 'Video',\n",
       "  'title': 'how to study programs',\n",
       "  'path': '/videos/TxM8p5F6DXE'},\n",
       " {'objectID': 'PrcZXRD8pBc',\n",
       "  'objectType': 'Video',\n",
       "  'title': 'space brother',\n",
       "  'path': '/videos/PrcZXRD8pBc'},\n",
       " {'objectID': 'blEApq7Qa-Q',\n",
       "  'objectType': 'Video',\n",
       "  'title': 'while practice',\n",
       "  'path': '/videos/blEApq7Qa-Q'},\n",
       " {'objectID': 'UKdQjQX1Pko',\n",
       "  'objectType': 'Video',\n",
       "  'title': None,\n",
       "  'path': '/videos/UKdQjQX1Pko'},\n",
       " {'objectID': 'qz9tKlF431k',\n",
       "  'objectType': 'Video',\n",
       "  'title': None,\n",
       "  'path': '/videos/qz9tKlF431k'},\n",
       " {'objectID': 'TVFu4-Kd4oM',\n",
       "  'objectType': 'Video',\n",
       "  'title': 'coffeejavascript123',\n",
       "  'path': '/videos/TVFu4-Kd4oM'},\n",
       " {'objectID': 'xUd_PT6HVMw',\n",
       "  'objectType': 'Video',\n",
       "  'title': 'study with me',\n",
       "  'path': '/videos/xUd_PT6HVMw'},\n",
       " {'objectID': 'xg4L7yLY2v4',\n",
       "  'objectType': 'Video',\n",
       "  'title': 'room tour',\n",
       "  'path': '/videos/xg4L7yLY2v4'},\n",
       " {'objectID': 'SLB_c_ayRMo',\n",
       "  'objectType': 'Video',\n",
       "  'title': 'terraform',\n",
       "  'path': '/videos/SLB_c_ayRMo'},\n",
       " {'objectID': 'QFrLWBPlHw0',\n",
       "  'objectType': 'Video',\n",
       "  'title': 'network',\n",
       "  'path': '/videos/QFrLWBPlHw0'},\n",
       " {'objectID': 'j4GiaWfo3fk',\n",
       "  'objectType': 'Video',\n",
       "  'title': 'tcp ip',\n",
       "  'path': '/videos/j4GiaWfo3fk'},\n",
       " {'objectID': '2DADkjANaGQ',\n",
       "  'objectType': 'Video',\n",
       "  'title': 'lany',\n",
       "  'path': '/videos/2DADkjANaGQ'},\n",
       " {'objectID': 'QvznzHUYgUM',\n",
       "  'objectType': 'Video',\n",
       "  'title': 'book',\n",
       "  'path': '/videos/QvznzHUYgUM'},\n",
       " {'objectID': 'nKcrVtvZvpk',\n",
       "  'objectType': 'Video',\n",
       "  'title': 'ad',\n",
       "  'path': '/videos/nKcrVtvZvpk'},\n",
       " {'objectID': 'ftOBvusMHjQ',\n",
       "  'objectType': 'Video',\n",
       "  'title': 'markdown',\n",
       "  'path': '/videos/ftOBvusMHjQ'},\n",
       " {'objectID': '6H86Tlfg3CU',\n",
       "  'objectType': 'Video',\n",
       "  'title': 'for study music',\n",
       "  'path': '/videos/6H86Tlfg3CU'},\n",
       " {'objectID': 'G_oNv-kiFPE',\n",
       "  'objectType': 'Video',\n",
       "  'title': None,\n",
       "  'path': '/videos/G_oNv-kiFPE'},\n",
       " {'objectID': 'h1MDCp7blmg',\n",
       "  'objectType': 'Video',\n",
       "  'title': None,\n",
       "  'path': '/videos/h1MDCp7blmg'},\n",
       " {'objectID': 'vWXrFetSH8w',\n",
       "  'objectType': 'Video',\n",
       "  'title': 'c++',\n",
       "  'path': '/videos/vWXrFetSH8w'},\n",
       " {'objectID': 'FDHeP-JWym4',\n",
       "  'objectType': 'Video',\n",
       "  'title': 'stay',\n",
       "  'path': '/videos/FDHeP-JWym4'},\n",
       " {'objectID': '2btS31AU3Iw',\n",
       "  'objectType': 'Video',\n",
       "  'title': None,\n",
       "  'path': '/videos/2btS31AU3Iw'},\n",
       " {'objectID': '1sm60v4-iTg',\n",
       "  'objectType': 'Video',\n",
       "  'title': 'foreign music palylist',\n",
       "  'path': '/videos/1sm60v4-iTg'}]"
      ]
     },
     "execution_count": 13,
     "metadata": {},
     "output_type": "execute_result"
    }
   ],
   "source": [
    "video_q = [dict(x) for x in Video.objects.all()]\n",
    "videos_dataset = [VideoIndexSchema(**x).dict() for x in video_q]\n",
    "videos_dataset"
   ]
  },
  {
   "cell_type": "code",
   "execution_count": 14,
   "id": "b69bf49a",
   "metadata": {
    "scrolled": false
   },
   "outputs": [
    {
     "data": {
      "text/plain": [
       "[{'objectID': 'e0bb0fa8-97d5-11ec-a98f-acde48001122',\n",
       "  'objectType': 'Playlist',\n",
       "  'title': 'python',\n",
       "  'path': '/playlist/e0bb0fa8-97d5-11ec-a98f-acde48001122'},\n",
       " {'objectID': 'cf899bde-8d24-11ec-b0b7-acde48001122',\n",
       "  'objectType': 'Playlist',\n",
       "  'title': 'Video model',\n",
       "  'path': '/playlist/cf899bde-8d24-11ec-b0b7-acde48001122'},\n",
       " {'objectID': '9ee751be-8d25-11ec-b2ce-acde48001122',\n",
       "  'objectType': 'Playlist',\n",
       "  'title': 'beautiful landscape',\n",
       "  'path': '/playlist/9ee751be-8d25-11ec-b2ce-acde48001122'},\n",
       " {'objectID': '48f36c4c-8ca4-11ec-93ad-acde48001122',\n",
       "  'objectType': 'Playlist',\n",
       "  'title': 'hello world',\n",
       "  'path': '/playlist/48f36c4c-8ca4-11ec-93ad-acde48001122'},\n",
       " {'objectID': 'd47561be-8d24-11ec-b0b7-acde48001122',\n",
       "  'objectType': 'Playlist',\n",
       "  'title': 'Videos model',\n",
       "  'path': '/playlist/d47561be-8d24-11ec-b0b7-acde48001122'}]"
      ]
     },
     "execution_count": 14,
     "metadata": {},
     "output_type": "execute_result"
    }
   ],
   "source": [
    "playlist_q = [dict(x) for x in Playlist.objects.all()]\n",
    "playlists_dataset = [PlaylistIndexSchema(**x).dict() for x in playlist_q]\n",
    "playlists_dataset"
   ]
  },
  {
   "cell_type": "code",
   "execution_count": 15,
   "id": "ca0ab794",
   "metadata": {},
   "outputs": [],
   "source": [
    "dataset = playlists_dataset + videos_dataset"
   ]
  },
  {
   "cell_type": "code",
   "execution_count": 16,
   "id": "f55d9ce9",
   "metadata": {},
   "outputs": [
    {
     "data": {
      "text/plain": [
       "[{'objectID': 'e0bb0fa8-97d5-11ec-a98f-acde48001122',\n",
       "  'objectType': 'Playlist',\n",
       "  'title': 'python',\n",
       "  'path': '/playlist/e0bb0fa8-97d5-11ec-a98f-acde48001122'},\n",
       " {'objectID': 'cf899bde-8d24-11ec-b0b7-acde48001122',\n",
       "  'objectType': 'Playlist',\n",
       "  'title': 'Video model',\n",
       "  'path': '/playlist/cf899bde-8d24-11ec-b0b7-acde48001122'},\n",
       " {'objectID': '9ee751be-8d25-11ec-b2ce-acde48001122',\n",
       "  'objectType': 'Playlist',\n",
       "  'title': 'beautiful landscape',\n",
       "  'path': '/playlist/9ee751be-8d25-11ec-b2ce-acde48001122'},\n",
       " {'objectID': '48f36c4c-8ca4-11ec-93ad-acde48001122',\n",
       "  'objectType': 'Playlist',\n",
       "  'title': 'hello world',\n",
       "  'path': '/playlist/48f36c4c-8ca4-11ec-93ad-acde48001122'},\n",
       " {'objectID': 'd47561be-8d24-11ec-b0b7-acde48001122',\n",
       "  'objectType': 'Playlist',\n",
       "  'title': 'Videos model',\n",
       "  'path': '/playlist/d47561be-8d24-11ec-b0b7-acde48001122'},\n",
       " {'objectID': '3kYkEVIZNZY',\n",
       "  'objectType': 'Video',\n",
       "  'title': 'next is',\n",
       "  'path': '/videos/3kYkEVIZNZY'},\n",
       " {'objectID': 'azcrPFhaY9k',\n",
       "  'objectType': 'Video',\n",
       "  'title': 'thinker revised',\n",
       "  'path': '/videos/azcrPFhaY9k'},\n",
       " {'objectID': 'fAAZixBzIAI',\n",
       "  'objectType': 'Video',\n",
       "  'title': 'algorithm renamed change',\n",
       "  'path': '/videos/fAAZixBzIAI'},\n",
       " {'objectID': 'e26zZ83Oh6Y',\n",
       "  'objectType': 'Video',\n",
       "  'title': 'guitar play',\n",
       "  'path': '/videos/e26zZ83Oh6Y'},\n",
       " {'objectID': 'nTeuhbP7wdE',\n",
       "  'objectType': 'Video',\n",
       "  'title': 'react study tool',\n",
       "  'path': '/videos/nTeuhbP7wdE'},\n",
       " {'objectID': 'TxM8p5F6DXE',\n",
       "  'objectType': 'Video',\n",
       "  'title': 'how to study programs',\n",
       "  'path': '/videos/TxM8p5F6DXE'},\n",
       " {'objectID': 'PrcZXRD8pBc',\n",
       "  'objectType': 'Video',\n",
       "  'title': 'space brother',\n",
       "  'path': '/videos/PrcZXRD8pBc'},\n",
       " {'objectID': 'blEApq7Qa-Q',\n",
       "  'objectType': 'Video',\n",
       "  'title': 'while practice',\n",
       "  'path': '/videos/blEApq7Qa-Q'},\n",
       " {'objectID': 'UKdQjQX1Pko',\n",
       "  'objectType': 'Video',\n",
       "  'title': None,\n",
       "  'path': '/videos/UKdQjQX1Pko'},\n",
       " {'objectID': 'qz9tKlF431k',\n",
       "  'objectType': 'Video',\n",
       "  'title': None,\n",
       "  'path': '/videos/qz9tKlF431k'},\n",
       " {'objectID': 'TVFu4-Kd4oM',\n",
       "  'objectType': 'Video',\n",
       "  'title': 'coffeejavascript123',\n",
       "  'path': '/videos/TVFu4-Kd4oM'},\n",
       " {'objectID': 'xUd_PT6HVMw',\n",
       "  'objectType': 'Video',\n",
       "  'title': 'study with me',\n",
       "  'path': '/videos/xUd_PT6HVMw'},\n",
       " {'objectID': 'xg4L7yLY2v4',\n",
       "  'objectType': 'Video',\n",
       "  'title': 'room tour',\n",
       "  'path': '/videos/xg4L7yLY2v4'},\n",
       " {'objectID': 'SLB_c_ayRMo',\n",
       "  'objectType': 'Video',\n",
       "  'title': 'terraform',\n",
       "  'path': '/videos/SLB_c_ayRMo'},\n",
       " {'objectID': 'QFrLWBPlHw0',\n",
       "  'objectType': 'Video',\n",
       "  'title': 'network',\n",
       "  'path': '/videos/QFrLWBPlHw0'},\n",
       " {'objectID': 'j4GiaWfo3fk',\n",
       "  'objectType': 'Video',\n",
       "  'title': 'tcp ip',\n",
       "  'path': '/videos/j4GiaWfo3fk'},\n",
       " {'objectID': '2DADkjANaGQ',\n",
       "  'objectType': 'Video',\n",
       "  'title': 'lany',\n",
       "  'path': '/videos/2DADkjANaGQ'},\n",
       " {'objectID': 'QvznzHUYgUM',\n",
       "  'objectType': 'Video',\n",
       "  'title': 'book',\n",
       "  'path': '/videos/QvznzHUYgUM'},\n",
       " {'objectID': 'nKcrVtvZvpk',\n",
       "  'objectType': 'Video',\n",
       "  'title': 'ad',\n",
       "  'path': '/videos/nKcrVtvZvpk'},\n",
       " {'objectID': 'ftOBvusMHjQ',\n",
       "  'objectType': 'Video',\n",
       "  'title': 'markdown',\n",
       "  'path': '/videos/ftOBvusMHjQ'},\n",
       " {'objectID': '6H86Tlfg3CU',\n",
       "  'objectType': 'Video',\n",
       "  'title': 'for study music',\n",
       "  'path': '/videos/6H86Tlfg3CU'},\n",
       " {'objectID': 'G_oNv-kiFPE',\n",
       "  'objectType': 'Video',\n",
       "  'title': None,\n",
       "  'path': '/videos/G_oNv-kiFPE'},\n",
       " {'objectID': 'h1MDCp7blmg',\n",
       "  'objectType': 'Video',\n",
       "  'title': None,\n",
       "  'path': '/videos/h1MDCp7blmg'},\n",
       " {'objectID': 'vWXrFetSH8w',\n",
       "  'objectType': 'Video',\n",
       "  'title': 'c++',\n",
       "  'path': '/videos/vWXrFetSH8w'},\n",
       " {'objectID': 'FDHeP-JWym4',\n",
       "  'objectType': 'Video',\n",
       "  'title': 'stay',\n",
       "  'path': '/videos/FDHeP-JWym4'},\n",
       " {'objectID': '2btS31AU3Iw',\n",
       "  'objectType': 'Video',\n",
       "  'title': None,\n",
       "  'path': '/videos/2btS31AU3Iw'},\n",
       " {'objectID': '1sm60v4-iTg',\n",
       "  'objectType': 'Video',\n",
       "  'title': 'foreign music palylist',\n",
       "  'path': '/videos/1sm60v4-iTg'}]"
      ]
     },
     "execution_count": 16,
     "metadata": {},
     "output_type": "execute_result"
    }
   ],
   "source": [
    "dataset"
   ]
  },
  {
   "cell_type": "code",
   "execution_count": 17,
   "id": "a0cdeb5b",
   "metadata": {
    "scrolled": true
   },
   "outputs": [],
   "source": [
    "index = get_index()"
   ]
  },
  {
   "cell_type": "code",
   "execution_count": 18,
   "id": "67610c83",
   "metadata": {},
   "outputs": [],
   "source": [
    "# dir(index)"
   ]
  },
  {
   "cell_type": "code",
   "execution_count": 24,
   "id": "e663f0ec",
   "metadata": {
    "scrolled": true
   },
   "outputs": [
    {
     "data": {
      "text/plain": [
       "32"
      ]
     },
     "execution_count": 24,
     "metadata": {},
     "output_type": "execute_result"
    }
   ],
   "source": [
    "# idx_response =  index.save_objects(dataset).wait()\n",
    "# len(idx_response[0]['objectIDs'])\n",
    "\n",
    "updated_count = update_index()\n",
    "updated_count"
   ]
  },
  {
   "cell_type": "code",
   "execution_count": 20,
   "id": "c93498f4",
   "metadata": {},
   "outputs": [
    {
     "data": {
      "text/plain": [
       "{'hits': [],\n",
       " 'nbHits': 0,\n",
       " 'page': 0,\n",
       " 'nbPages': 0,\n",
       " 'hitsPerPage': 20,\n",
       " 'exhaustiveNbHits': True,\n",
       " 'exhaustiveTypo': True,\n",
       " 'query': 'Awesome Open CV',\n",
       " 'params': 'query=Awesome+Open+CV',\n",
       " 'renderingContent': {},\n",
       " 'processingTimeMS': 1}"
      ]
     },
     "execution_count": 20,
     "metadata": {},
     "output_type": "execute_result"
    }
   ],
   "source": [
    "# index.search(\"Awesome Open CV\")"
   ]
  },
  {
   "cell_type": "code",
   "execution_count": null,
   "id": "e85b57b7",
   "metadata": {},
   "outputs": [],
   "source": []
  }
 ],
 "metadata": {
  "kernelspec": {
   "display_name": "Python 3 (ipykernel)",
   "language": "python",
   "name": "python3"
  },
  "language_info": {
   "codemirror_mode": {
    "name": "ipython",
    "version": 3
   },
   "file_extension": ".py",
   "mimetype": "text/x-python",
   "name": "python",
   "nbconvert_exporter": "python",
   "pygments_lexer": "ipython3",
   "version": "3.9.9"
  }
 },
 "nbformat": 4,
 "nbformat_minor": 5
}
