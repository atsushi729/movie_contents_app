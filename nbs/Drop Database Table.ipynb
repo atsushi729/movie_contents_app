{
 "cells": [
  {
   "cell_type": "code",
   "execution_count": 1,
   "id": "01f4668c",
   "metadata": {
    "scrolled": true
   },
   "outputs": [
    {
     "name": "stdout",
     "output_type": "stream",
     "text": [
      "/Users/hatakeyamaatsushi/PycharmProjects/movie_contents_app\n"
     ]
    }
   ],
   "source": [
    "%cd /Users/hatakeyamaatsushi/PycharmProjects/movie_contents_app"
   ]
  },
  {
   "cell_type": "code",
   "execution_count": 2,
   "id": "6f31b055",
   "metadata": {
    "scrolled": false
   },
   "outputs": [],
   "source": [
    "from app import db, config\n",
    "from app.watch_events.models import WatchEvent\n",
    "# from app.users.models import User"
   ]
  },
  {
   "cell_type": "code",
   "execution_count": 3,
   "id": "b4e127c9",
   "metadata": {},
   "outputs": [],
   "source": [
    "session = db.get_session()"
   ]
  },
  {
   "cell_type": "code",
   "execution_count": 4,
   "id": "41eb3022",
   "metadata": {},
   "outputs": [],
   "source": [
    "settings = config.get_settings()"
   ]
  },
  {
   "cell_type": "code",
   "execution_count": 5,
   "id": "2e2c4e29",
   "metadata": {},
   "outputs": [],
   "source": [
    "keyspace = settings.keyspace"
   ]
  },
  {
   "cell_type": "code",
   "execution_count": 6,
   "id": "5c10610c",
   "metadata": {},
   "outputs": [],
   "source": [
    "q = WatchEvent.objects.all()\n",
    "query_str = str(q._select_query())\n",
    "query_str\n",
    "q_r = session.execute(query_str)\n",
    "for item in q_r.all():\n",
    "    print(item)"
   ]
  },
  {
   "cell_type": "code",
   "execution_count": 47,
   "id": "ba8da81b",
   "metadata": {},
   "outputs": [],
   "source": [
    "model_name = \"watch_event\""
   ]
  },
  {
   "cell_type": "code",
   "execution_count": 48,
   "id": "2a660bbf",
   "metadata": {},
   "outputs": [
    {
     "data": {
      "text/plain": [
       "'DROP TABLE IF EXISTS video_membership_app.watch_event'"
      ]
     },
     "execution_count": 48,
     "metadata": {},
     "output_type": "execute_result"
    }
   ],
   "source": [
    "cmd = f\"DROP TABLE IF EXISTS {keyspace}.{model_name}\"\n",
    "cmd"
   ]
  },
  {
   "cell_type": "code",
   "execution_count": 50,
   "id": "c380b0ec",
   "metadata": {
    "scrolled": false
   },
   "outputs": [],
   "source": [
    "r = session.execute(cmd)"
   ]
  },
  {
   "cell_type": "code",
   "execution_count": 51,
   "id": "39e5ef21",
   "metadata": {},
   "outputs": [
    {
     "data": {
      "text/plain": [
       "['__bool__',\n",
       " '__class__',\n",
       " '__delattr__',\n",
       " '__dict__',\n",
       " '__dir__',\n",
       " '__doc__',\n",
       " '__eq__',\n",
       " '__format__',\n",
       " '__ge__',\n",
       " '__getattribute__',\n",
       " '__getitem__',\n",
       " '__gt__',\n",
       " '__hash__',\n",
       " '__init__',\n",
       " '__init_subclass__',\n",
       " '__iter__',\n",
       " '__le__',\n",
       " '__lt__',\n",
       " '__module__',\n",
       " '__ne__',\n",
       " '__new__',\n",
       " '__next__',\n",
       " '__nonzero__',\n",
       " '__reduce__',\n",
       " '__reduce_ex__',\n",
       " '__repr__',\n",
       " '__setattr__',\n",
       " '__sizeof__',\n",
       " '__str__',\n",
       " '__subclasshook__',\n",
       " '__weakref__',\n",
       " '_current_rows',\n",
       " '_enter_list_mode',\n",
       " '_fetch_all',\n",
       " '_list_mode',\n",
       " '_page_iter',\n",
       " '_set_current_rows',\n",
       " 'all',\n",
       " 'cancel_continuous_paging',\n",
       " 'column_names',\n",
       " 'column_types',\n",
       " 'current_rows',\n",
       " 'fetch_next_page',\n",
       " 'get_all_query_traces',\n",
       " 'get_query_trace',\n",
       " 'has_more_pages',\n",
       " 'next',\n",
       " 'one',\n",
       " 'paging_state',\n",
       " 'response_future',\n",
       " 'was_applied']"
      ]
     },
     "execution_count": 51,
     "metadata": {},
     "output_type": "execute_result"
    }
   ],
   "source": [
    "dir(r)"
   ]
  },
  {
   "cell_type": "code",
   "execution_count": 67,
   "id": "c0349858",
   "metadata": {},
   "outputs": [],
   "source": [
    "for item in r.all():\n",
    "    print(item)"
   ]
  },
  {
   "cell_type": "code",
   "execution_count": null,
   "id": "234aa8e4",
   "metadata": {},
   "outputs": [],
   "source": []
  },
  {
   "cell_type": "code",
   "execution_count": null,
   "id": "bb77689f",
   "metadata": {},
   "outputs": [],
   "source": []
  }
 ],
 "metadata": {
  "kernelspec": {
   "display_name": "Python 3 (ipykernel)",
   "language": "python",
   "name": "python3"
  },
  "language_info": {
   "codemirror_mode": {
    "name": "ipython",
    "version": 3
   },
   "file_extension": ".py",
   "mimetype": "text/x-python",
   "name": "python",
   "nbconvert_exporter": "python",
   "pygments_lexer": "ipython3",
   "version": "3.9.9"
  }
 },
 "nbformat": 4,
 "nbformat_minor": 5
}
