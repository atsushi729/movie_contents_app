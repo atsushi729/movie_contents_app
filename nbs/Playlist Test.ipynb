{
 "cells": [
  {
   "cell_type": "code",
   "execution_count": 1,
   "id": "01f4668c",
   "metadata": {
    "scrolled": false
   },
   "outputs": [
    {
     "name": "stdout",
     "output_type": "stream",
     "text": [
      "/Users/hatakeyamaatsushi/PycharmProjects/movie_contents_app\n"
     ]
    }
   ],
   "source": [
    "%cd /Users/hatakeyamaatsushi/PycharmProjects/movie_contents_app"
   ]
  },
  {
   "cell_type": "code",
   "execution_count": 2,
   "id": "6f31b055",
   "metadata": {
    "scrolled": true
   },
   "outputs": [],
   "source": [
    "import datetime\n",
    "from app import db, config\n",
    "from app.playlists.models import Playlist\n",
    "from app.videos.models import Video\n",
    "from cassandra.cqlengine.management import sync_table"
   ]
  },
  {
   "cell_type": "code",
   "execution_count": 3,
   "id": "b4e127c9",
   "metadata": {},
   "outputs": [],
   "source": [
    "session = db.get_session()\n",
    "settings = config.get_settings()\n",
    "allow_table_drop = False"
   ]
  },
  {
   "cell_type": "code",
   "execution_count": 4,
   "id": "757b0469",
   "metadata": {
    "scrolled": true
   },
   "outputs": [],
   "source": [
    "if allow_table_drop:\n",
    "    session.execute(f\"DROP TABLE IF EXISTS {settings.keyspace}.playlist\")"
   ]
  },
  {
   "cell_type": "code",
   "execution_count": 5,
   "id": "2f74ea4b",
   "metadata": {},
   "outputs": [],
   "source": [
    "sync_table(Playlist)\n",
    "sync_table(Video)"
   ]
  },
  {
   "cell_type": "code",
   "execution_count": 6,
   "id": "edce8f49",
   "metadata": {
    "scrolled": true
   },
   "outputs": [
    {
     "data": {
      "text/plain": [
       "Playlist(db_id=UUID('48f36c4c-8ca4-11ec-93ad-acde48001122'), user_id=None, updated=datetime.datetime(2022, 2, 13, 8, 9, 26, 102437), host_ids=[], title='hello world')"
      ]
     },
     "execution_count": 6,
     "metadata": {},
     "output_type": "execute_result"
    }
   ],
   "source": [
    "obj = Playlist.objects.create(title=\"hello world\")\n",
    "obj"
   ]
  },
  {
   "cell_type": "code",
   "execution_count": 7,
   "id": "934904d0",
   "metadata": {
    "scrolled": true
   },
   "outputs": [
    {
     "data": {
      "text/plain": [
       "Playlist(db_id=UUID('48f36c4c-8ca4-11ec-93ad-acde48001122'), user_id=None, updated=datetime.datetime(2022, 2, 13, 8, 9, 36, 994607), host_ids=[], title='hello world')"
      ]
     },
     "execution_count": 7,
     "metadata": {},
     "output_type": "execute_result"
    }
   ],
   "source": [
    "obj.updated = datetime.datetime.utcnow()\n",
    "obj.save()"
   ]
  },
  {
   "cell_type": "code",
   "execution_count": 8,
   "id": "0e7a1406",
   "metadata": {},
   "outputs": [
    {
     "data": {
      "text/plain": [
       "Playlist(db_id=UUID('48f36c4c-8ca4-11ec-93ad-acde48001122'), user_id=None, updated=datetime.datetime(2022, 2, 13, 8, 9, 36, 994607), host_ids=['new list'], title='hello world')"
      ]
     },
     "execution_count": 8,
     "metadata": {},
     "output_type": "execute_result"
    }
   ],
   "source": [
    "obj.host_ids = ['new list']\n",
    "obj.save()\n",
    "obj"
   ]
  },
  {
   "cell_type": "code",
   "execution_count": 9,
   "id": "45b5536b",
   "metadata": {},
   "outputs": [
    {
     "data": {
      "text/plain": [
       "[Playlist(db_id=UUID('48f36c4c-8ca4-11ec-93ad-acde48001122'), user_id=None, updated=datetime.datetime(2022, 2, 13, 8, 9, 36, 994000), host_ids=['new list'], title='hello world')]"
      ]
     },
     "execution_count": 9,
     "metadata": {},
     "output_type": "execute_result"
    }
   ],
   "source": [
    "list(Playlist.objects.all())"
   ]
  },
  {
   "cell_type": "code",
   "execution_count": 10,
   "id": "09e6dd6e",
   "metadata": {},
   "outputs": [
    {
     "data": {
      "text/plain": [
       "['TxM8p5F6DXE', 'qz9tKlF431k', 'NDtIBXz4go4', 'xUd_PT6HVMw', 'P1Rzzd9n_Pk']"
      ]
     },
     "execution_count": 10,
     "metadata": {},
     "output_type": "execute_result"
    }
   ],
   "source": [
    "host_ids = list(Video.objects.all().limit(5).values_list(\"host_id\", flat=True))\n",
    "host_ids"
   ]
  },
  {
   "cell_type": "code",
   "execution_count": 11,
   "id": "0ef51c1f",
   "metadata": {
    "scrolled": false
   },
   "outputs": [
    {
     "data": {
      "text/plain": [
       "[]"
      ]
     },
     "execution_count": 11,
     "metadata": {},
     "output_type": "execute_result"
    }
   ],
   "source": [
    "video_q = list(Video.objects.filter(host_id__in=obj.host_ids))\n",
    "video_q"
   ]
  },
  {
   "cell_type": "code",
   "execution_count": 12,
   "id": "c59e7dbc",
   "metadata": {},
   "outputs": [
    {
     "data": {
      "text/plain": [
       "['TxM8p5F6DXE', 'qz9tKlF431k', 'NDtIBXz4go4']"
      ]
     },
     "execution_count": 12,
     "metadata": {},
     "output_type": "execute_result"
    }
   ],
   "source": [
    "obj.add_host_ids(host_ids=host_ids[:3], replace_all=True)\n",
    "obj.host_ids"
   ]
  },
  {
   "cell_type": "code",
   "execution_count": 13,
   "id": "f7f6def7",
   "metadata": {},
   "outputs": [
    {
     "data": {
      "text/plain": [
       "[Video(title=None, host_id=NDtIBXz4go4, host_service=youtube),\n",
       " Video(title=study smart, host_id=TxM8p5F6DXE, host_service=youtube),\n",
       " Video(title=None, host_id=qz9tKlF431k, host_service=youtube)]"
      ]
     },
     "execution_count": 13,
     "metadata": {},
     "output_type": "execute_result"
    }
   ],
   "source": [
    "video_q = list(Video.objects.filter(host_id__in=obj.host_ids))\n",
    "video_q"
   ]
  },
  {
   "cell_type": "code",
   "execution_count": 14,
   "id": "d0c0dfd8",
   "metadata": {},
   "outputs": [
    {
     "data": {
      "text/plain": [
       "[Video(title=study smart, host_id=TxM8p5F6DXE, host_service=youtube),\n",
       " Video(title=None, host_id=qz9tKlF431k, host_service=youtube),\n",
       " Video(title=None, host_id=NDtIBXz4go4, host_service=youtube)]"
      ]
     },
     "execution_count": 14,
     "metadata": {},
     "output_type": "execute_result"
    }
   ],
   "source": [
    "obj.get_videos()"
   ]
  },
  {
   "cell_type": "code",
   "execution_count": null,
   "id": "f89316cd",
   "metadata": {},
   "outputs": [],
   "source": []
  }
 ],
 "metadata": {
  "kernelspec": {
   "display_name": "Python 3 (ipykernel)",
   "language": "python",
   "name": "python3"
  },
  "language_info": {
   "codemirror_mode": {
    "name": "ipython",
    "version": 3
   },
   "file_extension": ".py",
   "mimetype": "text/x-python",
   "name": "python",
   "nbconvert_exporter": "python",
   "pygments_lexer": "ipython3",
   "version": "3.9.9"
  }
 },
 "nbformat": 4,
 "nbformat_minor": 5
}
